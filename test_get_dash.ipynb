{
 "cells": [
  {
   "cell_type": "code",
   "execution_count": 2,
   "metadata": {},
   "outputs": [],
   "source": [
    "import psutil\n",
    "import serial\n",
    "import serial.tools.list_ports\n",
    "import time\n",
    "import yaml"
   ]
  },
  {
   "cell_type": "code",
   "execution_count": 3,
   "metadata": {},
   "outputs": [],
   "source": [
    "class RatePub:\n",
    "    def __init__(self) -> None:\n",
    "        self.__load__config()\n",
    "        self.ser = self.__init__serial()\n",
    "        self.usage = dict()\n",
    "\n",
    "    def __init__serial(self) :\n",
    "        port_list = list(serial.tools.list_ports.comports())\n",
    "        if len(port_list) == 0:\n",
    "            print(\"NO device connected\")\n",
    "        else:\n",
    "            for port in port_list:\n",
    "                print(\"avaliable com device: \",port.device)\n",
    "        port = port_list[0]\n",
    "        try:\n",
    "            ser = serial.Serial(port.device, baudrate=self.baud_rate)\n",
    "            print(\"open {} success with baudrate {}\".format(port.device,self.baud_rate))\n",
    "        except serial.SerialException as e:\n",
    "            print(e)\n",
    "        return ser \n",
    "    \n",
    "    def __load__config(self):\n",
    "        with open('publisher_config.yaml','r',encoding='utf-8') as f:\n",
    "            cfg = yaml.load(f, Loader = yaml.FullLoader)\n",
    "            self.publish_topic = cfg['publish_type']\n",
    "            self.baud_rate = int(cfg['baud_rate'])\n",
    "\n",
    "    def __get__usage(self):\n",
    "        self.usage[\"cpu_usage\"] = float( psutil.cpu_percent() )\n",
    "        self.usage[\"mem_usage\"] = float( psutil.virtual_memory().percent)\n",
    "        psutil.cpu_freq()\n",
    "\n",
    "    def run(self):\n",
    "        try:\n",
    "            while True:\n",
    "                time.sleep(0.2)\n",
    "                self.__get__usage()\n",
    "                pub_val = self.usage[self.publish_topic] # float\n",
    "                pub_val = str(round(2.55 * pub_val)).encode('utf-8')\n",
    "                if self.ser.write(pub_val) != 0:\n",
    "                    print(\"write {} {}\".format(self.publish_topic,pub_val))\n",
    "        except serial.SerialTimeoutException as e:\n",
    "            print(e)"
   ]
  },
  {
   "cell_type": "code",
   "execution_count": 5,
   "metadata": {},
   "outputs": [
    {
     "name": "stdout",
     "output_type": "stream",
     "text": [
      "avaliable com device:  /dev/ttyUSB0\n",
      "open /dev/ttyUSB0 success with baudrate 57600\n",
      "write mem_usage b'98'\n",
      "write mem_usage b'98'\n",
      "write mem_usage b'98'\n",
      "write mem_usage b'98'\n",
      "write mem_usage b'98'\n"
     ]
    },
    {
     "ename": "KeyboardInterrupt",
     "evalue": "",
     "output_type": "error",
     "traceback": [
      "\u001b[0;31m---------------------------------------------------------------------------\u001b[0m",
      "\u001b[0;31mKeyboardInterrupt\u001b[0m                         Traceback (most recent call last)",
      "\u001b[1;32m/home/lih/from_git/DashBoard/test_get_dash.ipynb 单元格 3\u001b[0m line \u001b[0;36m2\n\u001b[1;32m      <a href='vscode-notebook-cell:/home/lih/from_git/DashBoard/test_get_dash.ipynb#W2sZmlsZQ%3D%3D?line=0'>1</a>\u001b[0m rate_pub \u001b[39m=\u001b[39m RatePub()\n\u001b[0;32m----> <a href='vscode-notebook-cell:/home/lih/from_git/DashBoard/test_get_dash.ipynb#W2sZmlsZQ%3D%3D?line=1'>2</a>\u001b[0m rate_pub\u001b[39m.\u001b[39;49mrun()\n",
      "\u001b[1;32m/home/lih/from_git/DashBoard/test_get_dash.ipynb 单元格 3\u001b[0m line \u001b[0;36m3\n\u001b[1;32m     <a href='vscode-notebook-cell:/home/lih/from_git/DashBoard/test_get_dash.ipynb#W2sZmlsZQ%3D%3D?line=33'>34</a>\u001b[0m \u001b[39mtry\u001b[39;00m:\n\u001b[1;32m     <a href='vscode-notebook-cell:/home/lih/from_git/DashBoard/test_get_dash.ipynb#W2sZmlsZQ%3D%3D?line=34'>35</a>\u001b[0m     \u001b[39mwhile\u001b[39;00m \u001b[39mTrue\u001b[39;00m:\n\u001b[0;32m---> <a href='vscode-notebook-cell:/home/lih/from_git/DashBoard/test_get_dash.ipynb#W2sZmlsZQ%3D%3D?line=35'>36</a>\u001b[0m         time\u001b[39m.\u001b[39;49msleep(\u001b[39m0.2\u001b[39;49m)\n\u001b[1;32m     <a href='vscode-notebook-cell:/home/lih/from_git/DashBoard/test_get_dash.ipynb#W2sZmlsZQ%3D%3D?line=36'>37</a>\u001b[0m         \u001b[39mself\u001b[39m\u001b[39m.\u001b[39m__get__usage()\n\u001b[1;32m     <a href='vscode-notebook-cell:/home/lih/from_git/DashBoard/test_get_dash.ipynb#W2sZmlsZQ%3D%3D?line=37'>38</a>\u001b[0m         pub_val \u001b[39m=\u001b[39m \u001b[39mself\u001b[39m\u001b[39m.\u001b[39musage[\u001b[39mself\u001b[39m\u001b[39m.\u001b[39mpublish_topic] \u001b[39m# float\u001b[39;00m\n",
      "\u001b[0;31mKeyboardInterrupt\u001b[0m: "
     ]
    }
   ],
   "source": [
    "rate_pub = RatePub()\n",
    "rate_pub.run()"
   ]
  }
 ],
 "metadata": {
  "kernelspec": {
   "display_name": "Python 3",
   "language": "python",
   "name": "python3"
  },
  "language_info": {
   "codemirror_mode": {
    "name": "ipython",
    "version": 3
   },
   "file_extension": ".py",
   "mimetype": "text/x-python",
   "name": "python",
   "nbconvert_exporter": "python",
   "pygments_lexer": "ipython3",
   "version": "3.8.10"
  }
 },
 "nbformat": 4,
 "nbformat_minor": 2
}
