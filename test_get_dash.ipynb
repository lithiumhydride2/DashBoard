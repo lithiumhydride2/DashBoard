{
 "cells": [
  {
   "cell_type": "code",
   "execution_count": 1,
   "metadata": {},
   "outputs": [],
   "source": [
    "import psutil\n",
    "import serial\n",
    "import serial.tools.list_ports\n",
    "import time\n",
    "import yaml\n",
    "import socket\n",
    "import struct\n",
    "import netifaces"
   ]
  },
  {
   "cell_type": "code",
   "execution_count": 2,
   "metadata": {},
   "outputs": [
    {
     "data": {
      "text/plain": [
       "[2892.6093124999998, 1500.0, 3600.0]"
      ]
     },
     "execution_count": 2,
     "metadata": {},
     "output_type": "execute_result"
    }
   ],
   "source": [
    "list(psutil.cpu_freq())"
   ]
  },
  {
   "cell_type": "code",
   "execution_count": 3,
   "metadata": {},
   "outputs": [],
   "source": [
    "class RatePub:\n",
    "    def __init__(self) -> None:\n",
    "        self.__load__config()\n",
    "        if self.use_uart:\n",
    "            self.ser = self.__init__serial()\n",
    "        if not self.use_uart:\n",
    "            self.__init__udp()\n",
    "        self.usage = dict()\n",
    "        self.max_cpu_freq = psutil.cpu_freq().max\n",
    "        self.min_cpu_freq = psutil.cpu_freq().min\n",
    "\n",
    "    def __del__(self):\n",
    "        if not self.use_uart:\n",
    "            self.udp_socket.close()\n",
    "            \n",
    "    def __init__udp(self):\n",
    "        self.udp_socket = socket.socket(socket.AF_INET,socket.SOCK_DGRAM)\n",
    "        local_addr = (\"\",8265)\n",
    "        self.udp_socket.bind(local_addr)\n",
    "        # ip_addr = netifaces.gateways()['default'][netifaces.AF_INET][0]\n",
    "        ip_addr = \"192.168.1.125\"\n",
    "        self.dest_addr = (ip_addr,8266)\n",
    "\n",
    "\n",
    "    def __init__serial(self) :\n",
    "        port_list = list(serial.tools.list_ports.comports())\n",
    "        if len(port_list) == 0:\n",
    "            print(\"NO device connected\")\n",
    "        else:\n",
    "            for port in port_list:\n",
    "                print(\"avaliable com device: \",port.device)\n",
    "        port = port_list[0]\n",
    "        try:\n",
    "            ser = serial.Serial(port.device, baudrate=self.baud_rate)\n",
    "            print(\"open {} success with baudrate {}\".format(port.device,self.baud_rate))\n",
    "        except serial.SerialException as e:\n",
    "            print(e)\n",
    "        return ser \n",
    "    \n",
    "    def __load__config(self):\n",
    "        with open('publisher_config.yaml','r',encoding='utf-8') as f:\n",
    "            cfg = yaml.load(f, Loader = yaml.FullLoader)\n",
    "            self.publish_topic = cfg['publish_type']\n",
    "            self.baud_rate = int(cfg['baud_rate'])\n",
    "            self.use_uart = bool(cfg['use_uart'])\n",
    "\n",
    "    def __get__usage(self):\n",
    "        # must be 0~100\n",
    "        self.usage[\"cpu_usage\"] = float( psutil.cpu_percent() )\n",
    "        self.usage[\"cpu_freq\"] =  100 * float( psutil.cpu_freq().current/ self.max_cpu_freq)\n",
    "        self.usage[\"mem_usage\"] = float( psutil.virtual_memory().percent)\n",
    "        psutil.cpu_freq()\n",
    "\n",
    "    def run(self):        \n",
    "        while True:\n",
    "            self.__get__usage()\n",
    "            pub_val = self.usage[self.publish_topic] # float\n",
    "            pub_val = str(round(2.55 * pub_val)).encode(\"utf-8\")\n",
    "            if self.use_uart:\n",
    "                try: \n",
    "           \n",
    "                    self.ser.write(pub_val) and  print(\"write {} {}\".format(self.publish_topic,pub_val))\n",
    "                except serial.SerialTimeoutException as e:\n",
    "                    print(e)\n",
    "                time.sleep(1)\n",
    "            else:\n",
    "                try:\n",
    "                    self.udp_socket.sendto(pub_val, self.dest_addr) and print(\"write {} {}\".format(self.dest_addr,pub_val))\n",
    "                except Exception as e:\n",
    "                    print(e)\n",
    "                time.sleep(1.0)\n"
   ]
  },
  {
   "cell_type": "code",
   "execution_count": 4,
   "metadata": {},
   "outputs": [
    {
     "name": "stdout",
     "output_type": "stream",
     "text": [
      "write ('192.168.1.125', 8266) b'241'\n",
      "write ('192.168.1.125', 8266) b'131'\n",
      "write ('192.168.1.125', 8266) b'107'\n",
      "write ('192.168.1.125', 8266) b'113'\n",
      "write ('192.168.1.125', 8266) b'124'\n",
      "write ('192.168.1.125', 8266) b'177'\n",
      "write ('192.168.1.125', 8266) b'160'\n",
      "write ('192.168.1.125', 8266) b'136'\n",
      "write ('192.168.1.125', 8266) b'180'\n",
      "write ('192.168.1.125', 8266) b'132'\n"
     ]
    }
   ],
   "source": [
    "rate_pub = RatePub()\n",
    "rate_pub.run()"
   ]
  },
  {
   "cell_type": "code",
   "execution_count": null,
   "metadata": {},
   "outputs": [
    {
     "data": {
      "text/plain": [
       "'192.168.1.1'"
      ]
     },
     "execution_count": 13,
     "metadata": {},
     "output_type": "execute_result"
    }
   ],
   "source": [
    "netifaces.gateways()['default'][netifaces.AF_INET][0]\n"
   ]
  }
 ],
 "metadata": {
  "kernelspec": {
   "display_name": "Python 3",
   "language": "python",
   "name": "python3"
  },
  "language_info": {
   "codemirror_mode": {
    "name": "ipython",
    "version": 3
   },
   "file_extension": ".py",
   "mimetype": "text/x-python",
   "name": "python",
   "nbconvert_exporter": "python",
   "pygments_lexer": "ipython3",
   "version": "3.8.10"
  }
 },
 "nbformat": 4,
 "nbformat_minor": 2
}
