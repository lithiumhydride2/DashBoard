{
 "cells": [
  {
   "cell_type": "code",
   "execution_count": 1,
   "metadata": {},
   "outputs": [],
   "source": [
    "import psutil\n",
    "import serial\n",
    "import serial.tools.list_ports_windows\n",
    "import time\n",
    "import yaml"
   ]
  },
  {
   "cell_type": "code",
   "execution_count": 2,
   "metadata": {},
   "outputs": [],
   "source": [
    "class RatePub:\n",
    "    def __init__(self) -> None:\n",
    "        self.__load__config()\n",
    "        self.ser = self.__init__serial()\n",
    "        self.usage = dict()\n",
    "\n",
    "    def __init__serial(self) :\n",
    "        port_list = list(serial.tools.list_ports_windows.comports())\n",
    "        if len(port_list) == 0:\n",
    "            print(\"NO device connected\")\n",
    "        else:\n",
    "            for port in port_list:\n",
    "                print(\"avaliable com device: \",port.device)\n",
    "        port = port_list[0]\n",
    "        try:\n",
    "            ser = serial.Serial(port.device, baudrate=self.baud_rate)\n",
    "            print(\"open {} success with baudrate {}\".format(port.device,self.baud_rate))\n",
    "        except serial.SerialException as e:\n",
    "            print(e)\n",
    "        return ser \n",
    "    \n",
    "    def __load__config(self):\n",
    "        with open('publisher_config.yaml','r',encoding='utf-8') as f:\n",
    "            cfg = yaml.load(f, Loader = yaml.FullLoader)\n",
    "            self.publish_topic = cfg['publish_type']\n",
    "            self.baud_rate = int(cfg['baud_rate'])\n",
    "\n",
    "    def __get__usage(self):\n",
    "        self.usage[\"cpu_usage\"] = float( psutil.cpu_percent() )\n",
    "        self.usage[\"mem_usage\"] = float( psutil.virtual_memory().percent)\n",
    "        psutil.cpu_freq()\n",
    "\n",
    "    def run(self):\n",
    "        try:\n",
    "            while True:\n",
    "                time.sleep(0.2)\n",
    "                self.__get__usage()\n",
    "                pub_val = self.usage[self.publish_topic] # float\n",
    "                pub_val = str(round(2.55 * pub_val)).encode('utf-8')\n",
    "                if self.ser.write(pub_val) != 0:\n",
    "                    print(\"write {} {}\".format(self.publish_topic,pub_val))\n",
    "        except serial.SerialTimeoutException as e:\n",
    "            print(e)"
   ]
  },
  {
   "cell_type": "code",
   "execution_count": 3,
   "metadata": {},
   "outputs": [
    {
     "name": "stdout",
     "output_type": "stream",
     "text": [
      "avaliable com device:  COM4\n",
      "open COM4 success with baudrate 57600\n",
      "write mem_usage b'144'\n",
      "write mem_usage b'144'\n",
      "write mem_usage b'144'\n",
      "write mem_usage b'144'\n",
      "write mem_usage b'144'\n",
      "write mem_usage b'144'\n",
      "write mem_usage b'144'\n",
      "write mem_usage b'144'\n",
      "write mem_usage b'144'\n",
      "write mem_usage b'144'\n",
      "write mem_usage b'144'\n",
      "write mem_usage b'144'\n",
      "write mem_usage b'144'\n",
      "write mem_usage b'144'\n",
      "write mem_usage b'144'\n",
      "write mem_usage b'144'\n",
      "write mem_usage b'144'\n",
      "write mem_usage b'144'\n",
      "write mem_usage b'144'\n",
      "write mem_usage b'143'\n",
      "write mem_usage b'144'\n",
      "write mem_usage b'144'\n",
      "write mem_usage b'144'\n",
      "write mem_usage b'144'\n",
      "write mem_usage b'144'\n",
      "write mem_usage b'144'\n",
      "write mem_usage b'144'\n",
      "write mem_usage b'144'\n",
      "write mem_usage b'144'\n",
      "write mem_usage b'144'\n",
      "write mem_usage b'144'\n",
      "write mem_usage b'144'\n",
      "write mem_usage b'144'\n",
      "write mem_usage b'144'\n",
      "write mem_usage b'144'\n",
      "write mem_usage b'144'\n",
      "write mem_usage b'144'\n",
      "write mem_usage b'144'\n",
      "write mem_usage b'144'\n",
      "write mem_usage b'144'\n",
      "write mem_usage b'144'\n",
      "write mem_usage b'144'\n",
      "write mem_usage b'144'\n",
      "write mem_usage b'144'\n",
      "write mem_usage b'144'\n",
      "write mem_usage b'144'\n",
      "write mem_usage b'144'\n",
      "write mem_usage b'144'\n",
      "write mem_usage b'144'\n",
      "write mem_usage b'144'\n"
     ]
    }
   ],
   "source": [
    "rate_pub = RatePub()\n",
    "rate_pub.run()"
   ]
  }
 ],
 "metadata": {
  "kernelspec": {
   "display_name": "Python 3",
   "language": "python",
   "name": "python3"
  },
  "language_info": {
   "codemirror_mode": {
    "name": "ipython",
    "version": 3
   },
   "file_extension": ".py",
   "mimetype": "text/x-python",
   "name": "python",
   "nbconvert_exporter": "python",
   "pygments_lexer": "ipython3",
   "version": "3.9.13"
  }
 },
 "nbformat": 4,
 "nbformat_minor": 2
}
